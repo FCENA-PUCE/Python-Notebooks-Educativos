{
  "cells": [
    {
      "cell_type": "markdown",
      "metadata": {
        "colab_type": "text",
        "id": "view-in-github"
      },
      "source": [
        "<a href=\"https://colab.research.google.com/github/FCENA-PUCE/Python-Notebooks-Educativos/blob/main/Concepto-Relacion.ipynb\" target=\"_parent\"><img src=\"https://colab.research.google.com/assets/colab-badge.svg\" alt=\"Open In Colab\"/></a>"
      ]
    },
    {
      "cell_type": "markdown",
      "metadata": {
        "id": "g5AWDUU3C1zg"
      },
      "source": [
        "<table style=\"border: none; border-collapse: collapse;\">\n",
        "    <tr>\n",
        "        <td style=\"width: 20%; vertical-align: middle; padding-right: 10px;\">\n",
        "            <img src=\"https://i.imgur.com/nt7hloA.png\" width=\"100\">\n",
        "        </td>\n",
        "        <td style=\"width: 2px; text-align: center;\">\n",
        "            <font color=\"#0030A1\" size=\"7\">|</font><br>\n",
        "            <font color=\"#0030A1\" size=\"7\">|</font>\n",
        "        </td>\n",
        "        <td>\n",
        "            <p style=\"font-variant: small-caps;\"><font color=\"#0030A1\" size=\"5\">\n",
        "                <b>Catálogo STEM</b>\n",
        "            </font> </p>\n",
        "            <p style=\"font-variant: small-caps;\"><font color=\"#0030A1\" size=\"4\">\n",
        "                Concepto de Relación\n",
        "            </font></p>\n",
        "            <p style=\"font-style: oblique;\"><font color=\"#0030A1\" size=\"3\">\n",
        "                Andrés Merino &bull; Agosto 2025\n",
        "            </font></p>\n",
        "        </td>  \n",
        "    </tr>\n",
        "</table>"
      ]
    },
    {
      "cell_type": "markdown",
      "metadata": {
        "id": "Bxa9gBA7MvSU"
      },
      "source": [
        "---\n",
        "## <font color='264CC7'> Concepto de relación</font>\n",
        "---"
      ]
    },
    {
      "cell_type": "markdown",
      "metadata": {
        "id": "0oEuL2uJM6zS"
      },
      "source": [
        "En Python, podemos definir una relación mediante la definición formal, es decir, una relación es un conjunto de pares ordenados. En este caso, podemos utilizar tuplas para representar los pares ordenados y conjuntos para almacenar la relación completa."
      ]
    },
    {
      "cell_type": "code",
      "execution_count": 2,
      "metadata": {
        "colab": {
          "base_uri": "https://localhost:8080/",
          "height": 78
        },
        "id": "_RcPlATlM5zC",
        "outputId": "985fe20f-5f2a-4086-f8cb-fc636255a7d3"
      },
      "outputs": [
        {
          "name": "stdout",
          "output_type": "stream",
          "text": [
            "Relación R: {(2, 3), (4, 5), (1, 2), (3, 4)}\n"
          ]
        }
      ],
      "source": [
        "# Definimos una relación\n",
        "R = {(1, 2), (2, 3), (3, 4), (4, 5)}\n",
        "print(\"Relación R:\", R)"
      ]
    },
    {
      "cell_type": "markdown",
      "metadata": {},
      "source": [
        "De igual manera, podemos tomar el dominio y la imagen de la relación, usando la habilidad que tiene Python para definir conjuntos por comprensión."
      ]
    },
    {
      "cell_type": "code",
      "execution_count": 3,
      "metadata": {},
      "outputs": [
        {
          "name": "stdout",
          "output_type": "stream",
          "text": [
            "Dominio de R: {1, 2, 3, 4}\n",
            "Imagen de R: {2, 3, 4, 5}\n"
          ]
        }
      ],
      "source": [
        "dom = {x for (x, y) in R}\n",
        "img = {y for (x, y) in R}\n",
        "print(\"Dominio de R:\", dom)\n",
        "print(\"Imagen de R:\", img)"
      ]
    },
    {
      "cell_type": "markdown",
      "metadata": {},
      "source": [
        "De manera análoga, se puede definir la inversa de una relación, que es simplemente el conjunto de pares ordenados invertidos."
      ]
    },
    {
      "cell_type": "code",
      "execution_count": 4,
      "metadata": {},
      "outputs": [
        {
          "name": "stdout",
          "output_type": "stream",
          "text": [
            "Inversa de R: {(3, 2), (5, 4), (2, 1), (4, 3)}\n"
          ]
        }
      ],
      "source": [
        "R_inv = {(y, x) for (x, y) in R}\n",
        "print(\"Inversa de R:\", R_inv)"
      ]
    },
    {
      "cell_type": "markdown",
      "metadata": {},
      "source": [
        "También, podemos definir la composición de dos relaciones.\n",
        "$$\n",
        "    S \\circ R = \\{(x, z)\\in A\\times C :\\text{ existe } y\\in B\\text{ tal que } xRy \\text{ y } ySz\\}.\n",
        "$$"
      ]
    },
    {
      "cell_type": "code",
      "execution_count": 8,
      "metadata": {},
      "outputs": [
        {
          "name": "stdout",
          "output_type": "stream",
          "text": [
            "Relación R: {(2, 3), (1, 2), (3, 4)}\n",
            "Relación S: {(2, 'y'), (2, 'x'), (3, 'z')}\n",
            "Composición de S y R: {(1, 'x'), (2, 'z'), (1, 'y')}\n"
          ]
        }
      ],
      "source": [
        "# Definimos dos relaciones para la composición\n",
        "R = {(1, 2), (2, 3), (3, 4)}\n",
        "S = {(2, 'x'), (2, 'y'), (3, 'z')}\n",
        "print(\"Relación R:\", R)\n",
        "print(\"Relación S:\", S)\n",
        "# Composición de R y S\n",
        "R_comp = {(x, z) for (x, y1) in R for (y2, z) in S if y1 == y2}\n",
        "print(\"Composición de S y R:\", R_comp)"
      ]
    },
    {
      "cell_type": "markdown",
      "metadata": {},
      "source": [
        "---\n",
        "## <font color='264CC7'> Representación de relaciones</font>\n",
        "---"
      ]
    },
    {
      "cell_type": "markdown",
      "metadata": {},
      "source": [
        "Podemos generar la representación matricial de una relación, usando la definición:"
      ]
    },
    {
      "cell_type": "code",
      "execution_count": 23,
      "metadata": {},
      "outputs": [
        {
          "name": "stdout",
          "output_type": "stream",
          "text": [
            "Relación R: {(1, 2), (5, 5), (3, 4), (1, 4), (2, 3), (4, 5), (5, 3), (4, 1)}\n",
            "Matriz de la relación:\n",
            "[[0 1 0 1 0]\n",
            " [0 0 1 0 0]\n",
            " [0 0 0 1 0]\n",
            " [1 0 0 0 1]\n",
            " [0 0 1 0 1]]\n"
          ]
        }
      ],
      "source": [
        "# Paquete necesario para la representación matricial\n",
        "import numpy as np\n",
        "\n",
        "# Definimos los conjuntos A y B\n",
        "A = [1, 2, 3, 4, 5]\n",
        "B = [1, 2, 3, 4, 5]\n",
        "\n",
        "# Definimos la relación R\n",
        "R = {(1, 2), (2, 3), (3, 4), (4, 5), (5, 5), (5, 3), (1, 4), (4, 1)}\n",
        "print(\"Relación R:\", R)\n",
        "\n",
        "# Creamos la matriz de relación inicializada a ceros\n",
        "matriz = np.zeros((len(A), len(B)), dtype=int)\n",
        "\n",
        "# Lleno la matriz con los valores de la relación R\n",
        "for (a, b) in R:\n",
        "    i = A.index(a)\n",
        "    j = B.index(b)\n",
        "    matriz[i][j] = 1\n",
        "\n",
        "print(\"Matriz de la relación:\")\n",
        "print(matriz)"
      ]
    },
    {
      "cell_type": "markdown",
      "metadata": {},
      "source": [
        "Para su representación digráfica, podemos usar la biblioteca `networkx`."
      ]
    },
    {
      "cell_type": "code",
      "execution_count": 24,
      "metadata": {},
      "outputs": [
        {
          "data": {
            "image/png": "[encoded data removed]",
            "text/plain": [
              "<Figure size 640x480 with 1 Axes>"
            ]
          },
          "metadata": {},
          "output_type": "display_data"
        }
      ],
      "source": [
        "# Paquetes necesarios para la representación gráfica\n",
        "import networkx as nx\n",
        "import matplotlib.pyplot as plt\n",
        "\n",
        "# Definimos la relación como un grafo\n",
        "G = nx.DiGraph()\n",
        "G.add_edges_from(R)\n",
        "\n",
        "# Dibujamos el grafo\n",
        "nx.draw(G, with_labels=True, node_color='lightblue', arrows=True)\n",
        "plt.show()"
      ]
    },
    {
      "cell_type": "code",
      "execution_count": null,
      "metadata": {},
      "outputs": [],
      "source": []
    }
  ],
  "metadata": {
    "colab": {
      "include_colab_link": true,
      "name": "Resumen01.ipynb",
      "provenance": []
    },
    "kernelspec": {
      "display_name": "Python 3",
      "language": "python",
      "name": "python3"
    },
    "language_info": {
      "codemirror_mode": {
        "name": "ipython",
        "version": 3
      },
      "file_extension": ".py",
      "mimetype": "text/x-python",
      "name": "python",
      "nbconvert_exporter": "python",
      "pygments_lexer": "ipython3",
      "version": "3.11.3"
    }
  },
  "nbformat": 4,
  "nbformat_minor": 0
}
