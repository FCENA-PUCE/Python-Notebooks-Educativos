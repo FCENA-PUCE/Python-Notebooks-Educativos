{
  "cells": [
    {
      "cell_type": "markdown",
      "metadata": {
        "id": "view-in-github",
        "colab_type": "text"
      },
      "source": [
        "<a href=\"https://colab.research.google.com/github/FCENA-PUCE/Python-Notebooks-Educativos/blob/main/Tablas-de-verdad.ipynb\" target=\"_parent\"><img src=\"https://colab.research.google.com/assets/colab-badge.svg\" alt=\"Open In Colab\"/></a>"
      ]
    },
    {
      "cell_type": "markdown",
      "metadata": {
        "id": "g5AWDUU3C1zg"
      },
      "source": [
        "<table style=\"border: none; border-collapse: collapse;\">\n",
        "    <tr>\n",
        "        <td style=\"width: 20%; vertical-align: middle; padding-right: 10px;\">\n",
        "            <img src=\"https://i.imgur.com/nt7hloA.png\" width=\"100\">\n",
        "        </td>\n",
        "        <td style=\"width: 2px; text-align: center;\">\n",
        "            <font color=\"#0030A1\" size=\"7\">|</font><br>\n",
        "            <font color=\"#0030A1\" size=\"7\">|</font>\n",
        "        </td>\n",
        "        <td>\n",
        "            <p style=\"font-variant: small-caps;\"><font color=\"#0030A1\" size=\"5\">\n",
        "                <b>Catálogo STEM</b>\n",
        "            </font> </p>\n",
        "            <p style=\"font-variant: small-caps;\"><font color=\"#0030A1\" size=\"4\">\n",
        "                Propocisiones y Tablas de Verdad\n",
        "            </font></p>\n",
        "            <p style=\"font-style: oblique;\"><font color=\"#0030A1\" size=\"3\">\n",
        "                Andrés Merino &bull; Septiembre 2024\n",
        "            </font></p>\n",
        "        </td>  \n",
        "    </tr>\n",
        "</table>"
      ]
    },
    {
      "cell_type": "markdown",
      "metadata": {
        "id": "Bxa9gBA7MvSU"
      },
      "source": [
        "---\n",
        "## <font color='264CC7'> Valores de verdad de proposiciones</font>\n",
        "---"
      ]
    },
    {
      "cell_type": "markdown",
      "metadata": {
        "id": "0oEuL2uJM6zS"
      },
      "source": [
        "Podemos definir valores lógicos (booleanos) como una variable que puede tomar dos valores: verdadero o falso. En Python, estos valores se representan con `True` y `False` (con la primera letra en mayúscula)."
      ]
    },
    {
      "cell_type": "code",
      "execution_count": null,
      "metadata": {
        "colab": {
          "base_uri": "https://localhost:8080/",
          "height": 78
        },
        "id": "_RcPlATlM5zC",
        "outputId": "985fe20f-5f2a-4086-f8cb-fc636255a7d3"
      },
      "outputs": [
        {
          "name": "stdout",
          "output_type": "stream",
          "text": [
            "El valor de p es: True\n",
            "El valor de q es: False\n"
          ]
        }
      ],
      "source": [
        "p = True\n",
        "q = False\n",
        "\n",
        "print(\"El valor de p es:\", p)\n",
        "print(\"El valor de q es:\", q)"
      ]
    },
    {
      "cell_type": "markdown",
      "metadata": {
        "id": "0uqqwmFVC1zj"
      },
      "source": [
        "---\n",
        "## <font color='264CC7'> Operadores Logicos</font>\n",
        "---"
      ]
    },
    {
      "cell_type": "markdown",
      "metadata": {
        "id": "ZKMx1cAcC1zj"
      },
      "source": [
        "Para operar con valores lógicos, podemos usar los operadores lógicos `and`, `or` y `not`. Estos operadores se pueden usar con valores booleanos o con expresiones que evalúen a valores booleanos."
      ]
    },
    {
      "cell_type": "code",
      "execution_count": null,
      "metadata": {
        "id": "YxIdPWAbC1zj",
        "outputId": "bd2ba790-9890-4975-a528-5fecefe59af2"
      },
      "outputs": [
        {
          "name": "stdout",
          "output_type": "stream",
          "text": [
            "El valor de 'p and q' es: False\n",
            "El valor de 'p or q' es: True\n",
            "El valor de 'not p' es: False\n",
            "El valor de '4<5 and 5<6' es: True\n"
          ]
        }
      ],
      "source": [
        "print(\"El valor de 'p and q' es:\", p and q)\n",
        "print(\"El valor de 'p or q' es:\", p or q)\n",
        "print(\"El valor de 'not p' es:\", not p)\n",
        "\n",
        "print(\"El valor de '4<5 and 5<6' es:\", 4<5 and 5<6)"
      ]
    },
    {
      "cell_type": "markdown",
      "metadata": {
        "id": "gpNUANLTC1zj"
      },
      "source": [
        "También, podemos usar los operadores lógicos `&`, `|` y `~`, en lugar de `and`, `or` y `not`, respectivamente."
      ]
    },
    {
      "cell_type": "code",
      "execution_count": null,
      "metadata": {
        "id": "cFnB-fR1C1zk",
        "outputId": "9c61a7aa-6975-40c6-daae-a9676124cabf"
      },
      "outputs": [
        {
          "name": "stdout",
          "output_type": "stream",
          "text": [
            "El valor de 'p & q' es: False\n",
            "El valor de 'p | q' es: True\n",
            "El valor de '~p' es: -2\n",
            "El valor de '4<5 & 5<6' es: True\n"
          ]
        }
      ],
      "source": [
        "print(\"El valor de 'p & q' es:\", p & q)\n",
        "print(\"El valor de 'p | q' es:\", p | q)\n",
        "print(\"El valor de '~p' es:\", ~p)\n",
        "\n",
        "print(\"El valor de '4<5 & 5<6' es:\", 4<5 & 5<6)"
      ]
    },
    {
      "cell_type": "markdown",
      "metadata": {
        "id": "YdFEM581C1zk"
      },
      "source": [
        "---\n",
        "## <font color='264CC7'> Tablas de verdad</font>\n",
        "---"
      ]
    },
    {
      "cell_type": "markdown",
      "metadata": {
        "id": "hAvSwzOJC1zk"
      },
      "source": [
        "Para generar tablas de verdad, podemos usar la función `Truths` del paquete `ttg`. Esta función recibe como argumento una lista de expresiones lógicas, y genera una tabla de verdad con las expresiones y sus valores. Para instalar el paquete, podemos usar el comando `!pip install truth-table-generator`."
      ]
    },
    {
      "cell_type": "code",
      "source": [
        "!pip install truth-table-generator"
      ],
      "metadata": {
        "id": "70yGPsRIvkWp",
        "outputId": "e696a034-ff41-486b-eff9-c0c7001f7573",
        "colab": {
          "base_uri": "https://localhost:8080/"
        }
      },
      "execution_count": 10,
      "outputs": [
        {
          "output_type": "stream",
          "name": "stdout",
          "text": [
            "Requirement already satisfied: truth-table-generator in /usr/local/lib/python3.11/dist-packages (2.0.0)\n",
            "Requirement already satisfied: numpy in /usr/local/lib/python3.11/dist-packages (from truth-table-generator) (2.0.2)\n",
            "Requirement already satisfied: pandas in /usr/local/lib/python3.11/dist-packages (from truth-table-generator) (2.2.2)\n",
            "Requirement already satisfied: PTable in /usr/local/lib/python3.11/dist-packages (from truth-table-generator) (0.9.2)\n",
            "Requirement already satisfied: pyparsing in /usr/local/lib/python3.11/dist-packages (from truth-table-generator) (3.2.3)\n",
            "Requirement already satisfied: tabulate in /usr/local/lib/python3.11/dist-packages (from truth-table-generator) (0.9.0)\n",
            "Requirement already satisfied: jinja2 in /usr/local/lib/python3.11/dist-packages (from truth-table-generator) (3.1.6)\n",
            "Requirement already satisfied: MarkupSafe>=2.0 in /usr/local/lib/python3.11/dist-packages (from jinja2->truth-table-generator) (3.0.2)\n",
            "Requirement already satisfied: python-dateutil>=2.8.2 in /usr/local/lib/python3.11/dist-packages (from pandas->truth-table-generator) (2.9.0.post0)\n",
            "Requirement already satisfied: pytz>=2020.1 in /usr/local/lib/python3.11/dist-packages (from pandas->truth-table-generator) (2025.2)\n",
            "Requirement already satisfied: tzdata>=2022.7 in /usr/local/lib/python3.11/dist-packages (from pandas->truth-table-generator) (2025.2)\n",
            "Requirement already satisfied: six>=1.5 in /usr/local/lib/python3.11/dist-packages (from python-dateutil>=2.8.2->pandas->truth-table-generator) (1.17.0)\n"
          ]
        }
      ]
    },
    {
      "cell_type": "code",
      "execution_count": 11,
      "metadata": {
        "id": "Wt_FEDWsC1zk"
      },
      "outputs": [],
      "source": [
        "from ttg import Truths"
      ]
    },
    {
      "cell_type": "markdown",
      "metadata": {
        "id": "V1czIgS6C1zk"
      },
      "source": [
        "Generemos una tabla de verdad:"
      ]
    },
    {
      "cell_type": "code",
      "execution_count": null,
      "metadata": {
        "id": "De2yrlyBC1zk",
        "outputId": "012a5a8e-c196-4926-a6a1-a1e83f2d37bb"
      },
      "outputs": [
        {
          "name": "stdout",
          "output_type": "stream",
          "text": [
            "+-----+-----+-----------+----------+----------+-----------+\n",
            "|  p  |  q  |  p and q  |  p or q  |  p => q  |  ~p or q  |\n",
            "|-----+-----+-----------+----------+----------+-----------|\n",
            "|  1  |  1  |     1     |    1     |    1     |     1     |\n",
            "|  1  |  0  |     0     |    1     |    0     |     0     |\n",
            "|  0  |  1  |     0     |    1     |    1     |     1     |\n",
            "|  0  |  0  |     0     |    0     |    1     |     1     |\n",
            "+-----+-----+-----------+----------+----------+-----------+\n"
          ]
        }
      ],
      "source": [
        "print(Truths(['p', 'q'], ['p and q', 'p or q', 'p => q', '~p or q']))"
      ]
    },
    {
      "cell_type": "markdown",
      "metadata": {
        "id": "AIDb3U2tC1zl"
      },
      "source": [
        "### <font color='264CC7'> Ejercicios</font>\n",
        "\n",
        "Realiza la tabla de verdad de la proposición\n",
        "$$\n",
        "    (p \\land q) \\lor q\n",
        "$$"
      ]
    },
    {
      "cell_type": "code",
      "execution_count": null,
      "metadata": {
        "id": "5vOV1uzaC1zl"
      },
      "outputs": [],
      "source": [
        "## Escribe el código aquí:\n"
      ]
    },
    {
      "cell_type": "markdown",
      "source": [
        "---\n",
        "## <font color='264CC7'> Tautologías y contradicciones</font>\n",
        "---"
      ],
      "metadata": {
        "id": "mNl6nEKTu_xB"
      }
    },
    {
      "cell_type": "markdown",
      "source": [
        "Para determinar si una proposición es una tautología o contradicción, podemos usar el método `valuation`."
      ],
      "metadata": {
        "id": "S-1vwgEsvDDd"
      }
    },
    {
      "cell_type": "code",
      "source": [
        "table_val = Truths(['p', 'q'], ['(p and q) => p'])\n",
        "print(table_val)\n",
        "print(table_val.valuation())"
      ],
      "metadata": {
        "id": "zAjcOz8xvAlb",
        "outputId": "a4aa38a4-2098-4511-bd47-092cb55916e7",
        "colab": {
          "base_uri": "https://localhost:8080/"
        }
      },
      "execution_count": 13,
      "outputs": [
        {
          "output_type": "stream",
          "name": "stdout",
          "text": [
            "+-----+-----+------------------+\n",
            "|  p  |  q  |  (p and q) => p  |\n",
            "|-----+-----+------------------|\n",
            "|  1  |  1  |        1         |\n",
            "|  1  |  0  |        1         |\n",
            "|  0  |  1  |        1         |\n",
            "|  0  |  0  |        1         |\n",
            "+-----+-----+------------------+\n",
            "Tautology\n"
          ]
        }
      ]
    },
    {
      "cell_type": "code",
      "source": [
        "table_val = Truths(['p', 'q'], ['(p or q) => p'])\n",
        "print(table_val.valuation())"
      ],
      "metadata": {
        "id": "WXgWYNPpu92O",
        "outputId": "b1c521f8-1051-4cb4-bd4e-6b91d9472926",
        "colab": {
          "base_uri": "https://localhost:8080/"
        }
      },
      "execution_count": 14,
      "outputs": [
        {
          "output_type": "stream",
          "name": "stdout",
          "text": [
            "Contingency\n"
          ]
        }
      ]
    },
    {
      "cell_type": "code",
      "source": [],
      "metadata": {
        "id": "ORBShuUuweHJ"
      },
      "execution_count": null,
      "outputs": []
    }
  ],
  "metadata": {
    "colab": {
      "name": "Resumen01.ipynb",
      "provenance": [],
      "include_colab_link": true
    },
    "kernelspec": {
      "display_name": "Python 3.9.7 64-bit",
      "language": "python",
      "name": "python3"
    },
    "language_info": {
      "codemirror_mode": {
        "name": "ipython",
        "version": 3
      },
      "file_extension": ".py",
      "mimetype": "text/x-python",
      "name": "python",
      "nbconvert_exporter": "python",
      "pygments_lexer": "ipython3",
      "version": "3.9.7"
    },
    "vscode": {
      "interpreter": {
        "hash": "574f0ececfaca64af42fced74c20f22696803a55dee29435791452985008ef63"
      }
    }
  },
  "nbformat": 4,
  "nbformat_minor": 0
}