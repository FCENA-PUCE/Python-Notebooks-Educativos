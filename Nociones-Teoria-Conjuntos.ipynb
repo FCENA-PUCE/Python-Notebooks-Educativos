{
  "cells": [
    {
      "cell_type": "markdown",
      "metadata": {
        "colab_type": "text",
        "id": "view-in-github"
      },
      "source": [
        "<a href=\"https://colab.research.google.com/github/FCENA-PUCE/Python-Notebooks-Educativos/blob/main/Nociones-Teoria-Conjuntos.ipynb\" target=\"_parent\"><img src=\"https://colab.research.google.com/assets/colab-badge.svg\" alt=\"Open In Colab\"/></a>"
      ]
    },
    {
      "cell_type": "markdown",
      "metadata": {
        "id": "g5AWDUU3C1zg"
      },
      "source": [
        "<table style=\"border: none; border-collapse: collapse;\">\n",
        "    <tr>\n",
        "        <td style=\"width: 20%; vertical-align: middle; padding-right: 10px;\">\n",
        "            <img src=\"https://i.imgur.com/nt7hloA.png\" width=\"100\">\n",
        "        </td>\n",
        "        <td style=\"width: 2px; text-align: center;\">\n",
        "            <font color=\"#0030A1\" size=\"7\">|</font><br>\n",
        "            <font color=\"#0030A1\" size=\"7\">|</font>\n",
        "        </td>\n",
        "        <td>\n",
        "            <p style=\"font-variant: small-caps;\"><font color=\"#0030A1\" size=\"5\">\n",
        "                <b>Catálogo STEM</b>\n",
        "            </font> </p>\n",
        "            <p style=\"font-variant: small-caps;\"><font color=\"#0030A1\" size=\"4\">\n",
        "                Nociones de Teoría de conjuntos\n",
        "            </font></p>\n",
        "            <p style=\"font-style: oblique;\"><font color=\"#0030A1\" size=\"3\">\n",
        "                Andrés Merino &bull; Julio 2025\n",
        "            </font></p>\n",
        "        </td>  \n",
        "    </tr>\n",
        "</table>"
      ]
    },
    {
      "cell_type": "markdown",
      "metadata": {
        "id": "Bxa9gBA7MvSU"
      },
      "source": [
        "---\n",
        "## <font color='264CC7'> Represetación de conjuntos</font>\n",
        "---"
      ]
    },
    {
      "cell_type": "markdown",
      "metadata": {
        "id": "0oEuL2uJM6zS"
      },
      "source": [
        "En Python, los conjuntos se pueden representar utilizando la clase `set`, para esto, podemos utilizar llaves `{}`. Un conjunto es una colección no ordenada de elementos únicos. Aquí hay un ejemplo de cómo crear y manipular conjuntos en Python:"
      ]
    },
    {
      "cell_type": "code",
      "execution_count": 16,
      "metadata": {
        "colab": {
          "base_uri": "https://localhost:8080/",
          "height": 78
        },
        "id": "_RcPlATlM5zC",
        "outputId": "985fe20f-5f2a-4086-f8cb-fc636255a7d3"
      },
      "outputs": [
        {
          "name": "stdout",
          "output_type": "stream",
          "text": [
            "{1, 2, 3, 4, 5}\n",
            "<class 'set'>\n"
          ]
        }
      ],
      "source": [
        "# Definición de un conjunto en Python\n",
        "A = {1, 2, 3, 4, 5}\n",
        "# Imprimir el conjunto\n",
        "print(A)\n",
        "# Verificar el tipo de A\n",
        "print(type(A)) "
      ]
    },
    {
      "cell_type": "markdown",
      "metadata": {},
      "source": [
        "Podemos definir un conjunto en función de los elementos de otro conjunto, por ejemplo,\n",
        "$$ B = \\{x^2 : x \\in A \\}. $$"
      ]
    },
    {
      "cell_type": "code",
      "execution_count": 17,
      "metadata": {},
      "outputs": [
        {
          "name": "stdout",
          "output_type": "stream",
          "text": [
            "{1, 4, 9, 16, 25}\n"
          ]
        }
      ],
      "source": [
        "B = {x**2 for x in A}\n",
        "print(B)"
      ]
    },
    {
      "cell_type": "markdown",
      "metadata": {},
      "source": [
        "Otro ejemplo podría ser:\n",
        "$$ C = \\{x : x \\in A \\land x > 3\\}. $$"
      ]
    },
    {
      "cell_type": "code",
      "execution_count": 18,
      "metadata": {},
      "outputs": [
        {
          "name": "stdout",
          "output_type": "stream",
          "text": [
            "{4, 5}\n"
          ]
        }
      ],
      "source": [
        "C = {x for x in A if x > 3}\n",
        "print(C)"
      ]
    },
    {
      "cell_type": "markdown",
      "metadata": {},
      "source": [
        "Podemos revisar si un elemento pertenece a un conjunto utilizando el operador `in`."
      ]
    },
    {
      "cell_type": "code",
      "execution_count": 19,
      "metadata": {},
      "outputs": [
        {
          "name": "stdout",
          "output_type": "stream",
          "text": [
            "3 pertenece al conjunto A\n",
            "6 no pertenece al conjunto A\n"
          ]
        }
      ],
      "source": [
        "# Defino un conjunto\n",
        "A = {1, 2, 3, 4, 5}\n",
        "# Verifico si un elemento pertenece al conjunto\n",
        "if 3 in A:\n",
        "    print(\"3 pertenece al conjunto A\")\n",
        "else:\n",
        "    print(\"3 no pertenece al conjunto A\")\n",
        "# Verifico si un elemento pertenece al conjunto\n",
        "if 6 in A:\n",
        "    print(\"6 pertenece al conjunto A\")\n",
        "else:\n",
        "    print(\"6 no pertenece al conjunto A\")"
      ]
    },
    {
      "cell_type": "markdown",
      "metadata": {},
      "source": [
        "Ahora, para determinar si dos conjuntos son iguales, podemos utilizar el operador `==`. "
      ]
    },
    {
      "cell_type": "code",
      "execution_count": 20,
      "metadata": {},
      "outputs": [
        {
          "data": {
            "text/plain": [
              "True"
            ]
          },
          "execution_count": 20,
          "metadata": {},
          "output_type": "execute_result"
        }
      ],
      "source": [
        "{1,2} == {2,1}  "
      ]
    },
    {
      "cell_type": "markdown",
      "metadata": {},
      "source": [
        "Para representar pares ordenados, podemos utilizar tuplas. Por ejemplo, el par ordenado $(1, 2)$ se puede representar como `(1, 2)` en Python."
      ]
    },
    {
      "cell_type": "code",
      "execution_count": 21,
      "metadata": {},
      "outputs": [
        {
          "name": "stdout",
          "output_type": "stream",
          "text": [
            "False\n"
          ]
        }
      ],
      "source": [
        "# Definición de tuplas\n",
        "A = (1, 2)\n",
        "B = (2, 1)\n",
        "# Verifico si A y B son iguales\n",
        "print(A == B)"
      ]
    },
    {
      "cell_type": "markdown",
      "metadata": {},
      "source": [
        "Para representar el conjunto vacío, podemos utilizar `set()` o `{}`."
      ]
    },
    {
      "cell_type": "code",
      "execution_count": 22,
      "metadata": {},
      "outputs": [
        {
          "name": "stdout",
          "output_type": "stream",
          "text": [
            "set()\n",
            "{}\n"
          ]
        }
      ],
      "source": [
        "v1 = set()\n",
        "v2 = {}\n",
        "\n",
        "print(v1)\n",
        "print(v2)"
      ]
    },
    {
      "cell_type": "markdown",
      "metadata": {},
      "source": [
        "---\n",
        "## <font color='264CC7'> Subconjuntos y Cardinalidad</font>\n",
        "---"
      ]
    },
    {
      "cell_type": "markdown",
      "metadata": {},
      "source": [
        "Para determinar si un conjunto es un subconjunto de otro, podemos utilizar el método `issubset()`. Por ejemplo, si tenemos dos conjuntos `A` y `B`, podemos verificar si `A` es un subconjunto de `B` de la siguiente manera:\n"
      ]
    },
    {
      "cell_type": "code",
      "execution_count": 23,
      "metadata": {},
      "outputs": [
        {
          "name": "stdout",
          "output_type": "stream",
          "text": [
            "False\n",
            "True\n"
          ]
        }
      ],
      "source": [
        "# Defino los conjuntos A y B\n",
        "A = {1, 2, 3}\n",
        "B = {2, 3, 4}\n",
        "C = {3, 1}\n",
        "# Verifico si B es un subconjunto de A\n",
        "print(B.issubset(A))\n",
        "# Verifico si C es un subconjunto de A\n",
        "print(C.issubset(A))"
      ]
    },
    {
      "cell_type": "markdown",
      "metadata": {},
      "source": [
        "Para determinar la cardinalidad de un conjunto, es decir, el número de elementos que contiene, podemos utilizar la función `len()`. Por ejemplo, si tenemos un conjunto `A`, podemos obtener su cardinalidad con `len(A)`."
      ]
    },
    {
      "cell_type": "code",
      "execution_count": 24,
      "metadata": {},
      "outputs": [
        {
          "name": "stdout",
          "output_type": "stream",
          "text": [
            "3\n",
            "2\n"
          ]
        }
      ],
      "source": [
        "# Defino los conjuntos A y B\n",
        "A = {1, 2, 3}\n",
        "B = {3, 1}\n",
        "# Imprimo la cardinalidad de A\n",
        "print(len(A))\n",
        "# Imprimo la cardinalidad de B\n",
        "print(len(B))"
      ]
    },
    {
      "cell_type": "markdown",
      "metadata": {},
      "source": [
        "### <font color='264CC7'> Ejercicio </font>\n",
        "\n",
        "Crea un conjunto de los números del 1 al 100. Basado en este conjunto, genera el conjunto de todos los números de la forma $x^2$ donde $x$ es un elemento del conjunto original y que cumpla que $x^2 < 100$. Luego, verifica si el conjunto de los números al cuadrado es un subconjunto del conjunto original. Finalmente, imprime la cardinalidad de ambos conjuntos.\n"
      ]
    },
    {
      "cell_type": "code",
      "execution_count": 25,
      "metadata": {},
      "outputs": [
        {
          "name": "stdout",
          "output_type": "stream",
          "text": [
            "True\n",
            "Cardinalidad de A: 100\n",
            "Cardinalidad de B: 9\n"
          ]
        }
      ],
      "source": [
        "# Defino el primer conjunto con números del 1 al 100\n",
        "A = {x for x in range(1, 101)}\n",
        "# Genero el conjunto de números al cuadrado\n",
        "B = {x**2 for x in A if x**2 < 100}\n",
        "# Verifico si el conjunto de números al cuadrado es un subconjunto del conjunto original\n",
        "print(B.issubset(A))\n",
        "# Imprimo la cardinalidad de ambos conjuntos\n",
        "print(\"Cardinalidad de A:\", len(A))\n",
        "print(\"Cardinalidad de B:\", len(B))"
      ]
    },
    {
      "cell_type": "markdown",
      "metadata": {},
      "source": [
        "### <font color='264CC7'> Tareas </font>\n",
        "\n",
        "#### Tarea 1.\n",
        "\n",
        "Crea un conjunto de los números del 1 al 100. Basado en este conjunto, genera el conjunto de todos los números de la forma $4x^2$ donde $x$ es un elemento del conjunto original y que cumpla que $4x^2 < 200$. Luego, verifica si el conjunto de los números al cuadrado es un subconjunto del conjunto original. Finalmente, imprime la cardinalidad de ambos conjuntos."
      ]
    },
    {
      "cell_type": "code",
      "execution_count": null,
      "metadata": {},
      "outputs": [],
      "source": []
    },
    {
      "cell_type": "markdown",
      "metadata": {},
      "source": [
        "#### Tarea 2.\n",
        "\n",
        "Crea un conjunto con todas las vocales del alfabeto español. Luego, genera el conjunto de partes de este conjunto. Verifica si el conjunto original es elemento de su conjunto de partes. Imprime la cardinalidad del conjunto original y del conjunto de partes."
      ]
    },
    {
      "cell_type": "code",
      "execution_count": null,
      "metadata": {},
      "outputs": [],
      "source": []
    }
  ],
  "metadata": {
    "colab": {
      "include_colab_link": true,
      "name": "Resumen01.ipynb",
      "provenance": []
    },
    "kernelspec": {
      "display_name": "Python 3",
      "language": "python",
      "name": "python3"
    },
    "language_info": {
      "codemirror_mode": {
        "name": "ipython",
        "version": 3
      },
      "file_extension": ".py",
      "mimetype": "text/x-python",
      "name": "python",
      "nbconvert_exporter": "python",
      "pygments_lexer": "ipython3",
      "version": "3.11.3"
    }
  },
  "nbformat": 4,
  "nbformat_minor": 0
}
