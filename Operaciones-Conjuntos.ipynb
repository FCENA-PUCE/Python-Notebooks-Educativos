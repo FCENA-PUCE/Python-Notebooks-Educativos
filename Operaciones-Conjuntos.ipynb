{
  "cells": [
    {
      "cell_type": "markdown",
      "metadata": {
        "colab_type": "text",
        "id": "view-in-github"
      },
      "source": [
        "<a href=\"https://colab.research.google.com/github/FCENA-PUCE/Python-Notebooks-Educativos/blob/main/Operaciones-Conjuntos.ipynb\" target=\"_parent\"><img src=\"https://colab.research.google.com/assets/colab-badge.svg\" alt=\"Open In Colab\"/></a>"
      ]
    },
    {
      "cell_type": "markdown",
      "metadata": {
        "id": "g5AWDUU3C1zg"
      },
      "source": [
        "<table style=\"border: none; border-collapse: collapse;\">\n",
        "    <tr>\n",
        "        <td style=\"width: 20%; vertical-align: middle; padding-right: 10px;\">\n",
        "            <img src=\"https://i.imgur.com/nt7hloA.png\" width=\"100\">\n",
        "        </td>\n",
        "        <td style=\"width: 2px; text-align: center;\">\n",
        "            <font color=\"#0030A1\" size=\"7\">|</font><br>\n",
        "            <font color=\"#0030A1\" size=\"7\">|</font>\n",
        "        </td>\n",
        "        <td>\n",
        "            <p style=\"font-variant: small-caps;\"><font color=\"#0030A1\" size=\"5\">\n",
        "                <b>Catálogo STEM</b>\n",
        "            </font> </p>\n",
        "            <p style=\"font-variant: small-caps;\"><font color=\"#0030A1\" size=\"4\">\n",
        "                Operaciones de conjuntos\n",
        "            </font></p>\n",
        "            <p style=\"font-style: oblique;\"><font color=\"#0030A1\" size=\"3\">\n",
        "                Andrés Merino &bull; Julio 2025\n",
        "            </font></p>\n",
        "        </td>  \n",
        "    </tr>\n",
        "</table>"
      ]
    },
    {
      "cell_type": "markdown",
      "metadata": {
        "id": "Bxa9gBA7MvSU"
      },
      "source": [
        "---\n",
        "## <font color='264CC7'> Unión e intersección</font>\n",
        "---"
      ]
    },
    {
      "cell_type": "markdown",
      "metadata": {
        "id": "0oEuL2uJM6zS"
      },
      "source": [
        "En Python, para operar con la unión e intersección de conjuntos, se pueden utilizar los métodos `union()` e `intersection()`, o los operadores `|` y `&` respectivamente. "
      ]
    },
    {
      "cell_type": "code",
      "execution_count": 2,
      "metadata": {
        "colab": {
          "base_uri": "https://localhost:8080/",
          "height": 78
        },
        "id": "_RcPlATlM5zC",
        "outputId": "985fe20f-5f2a-4086-f8cb-fc636255a7d3"
      },
      "outputs": [
        {
          "name": "stdout",
          "output_type": "stream",
          "text": [
            "Conjunto A: {1, 2, 3, 4, 5}\n",
            "Conjunto B: {3, 4, 6, 7}\n"
          ]
        }
      ],
      "source": [
        "# Definimos dos conjuntos\n",
        "A = {1, 2, 3, 4, 5}\n",
        "B = {3, 4, 6, 7}\n",
        "# Muestro los conjuntos\n",
        "print(\"Conjunto A:\", A)\n",
        "print(\"Conjunto B:\", B)"
      ]
    },
    {
      "cell_type": "code",
      "execution_count": 4,
      "metadata": {},
      "outputs": [
        {
          "name": "stdout",
          "output_type": "stream",
          "text": [
            "{1, 2, 3, 4, 5, 6, 7}\n"
          ]
        }
      ],
      "source": [
        "# Para la unión de conjuntos usando el método\n",
        "R = A.union(B) \n",
        "print(R)"
      ]
    },
    {
      "cell_type": "code",
      "execution_count": 5,
      "metadata": {},
      "outputs": [
        {
          "name": "stdout",
          "output_type": "stream",
          "text": [
            "{1, 2, 3, 4, 5, 6, 7}\n"
          ]
        }
      ],
      "source": [
        "# Para la unión de conjuntos usando el operador\n",
        "R = A | B \n",
        "print(R)"
      ]
    },
    {
      "cell_type": "code",
      "execution_count": 6,
      "metadata": {},
      "outputs": [
        {
          "name": "stdout",
          "output_type": "stream",
          "text": [
            "{3, 4}\n"
          ]
        }
      ],
      "source": [
        "# Para la intersección de conjuntos usando el método\n",
        "R = A.intersection(B) \n",
        "print(R)"
      ]
    },
    {
      "cell_type": "code",
      "execution_count": 7,
      "metadata": {},
      "outputs": [
        {
          "name": "stdout",
          "output_type": "stream",
          "text": [
            "{3, 4}\n"
          ]
        }
      ],
      "source": [
        "# Para la intersección de conjuntos usando el operador\n",
        "R = A & B\n",
        "print(R)"
      ]
    },
    {
      "cell_type": "markdown",
      "metadata": {},
      "source": [
        "---\n",
        "## <font color='264CC7'> Diferencia y complemento</font>\n",
        "---"
      ]
    },
    {
      "cell_type": "markdown",
      "metadata": {},
      "source": [
        "Para operar con la diferencia y la [diferencia simétrica](https://es.wikipedia.org/wiki/Diferencia_sim%C3%A9trica) de conjuntos, se pueden utilizar los métodos `difference()` y `symmetric_difference()`, o los operadores `-` y `^` respectivamente.\n"
      ]
    },
    {
      "cell_type": "code",
      "execution_count": 1,
      "metadata": {},
      "outputs": [
        {
          "name": "stdout",
          "output_type": "stream",
          "text": [
            "Conjunto A: {1, 2, 3, 4, 5}\n",
            "Conjunto B: {3, 4, 6, 7}\n"
          ]
        }
      ],
      "source": [
        "# Definimos dos conjuntos\n",
        "A = {1, 2, 3, 4, 5}\n",
        "B = {3, 4, 6, 7}\n",
        "# Muestro los conjuntos\n",
        "print(\"Conjunto A:\", A)\n",
        "print(\"Conjunto B:\", B)"
      ]
    },
    {
      "cell_type": "code",
      "execution_count": 2,
      "metadata": {},
      "outputs": [
        {
          "name": "stdout",
          "output_type": "stream",
          "text": [
            "{1, 2, 5}\n"
          ]
        }
      ],
      "source": [
        "# Para la diferencia de conjuntos usando el método\n",
        "R = A.difference(B)\n",
        "print(R)"
      ]
    },
    {
      "cell_type": "code",
      "execution_count": 3,
      "metadata": {},
      "outputs": [
        {
          "name": "stdout",
          "output_type": "stream",
          "text": [
            "{1, 2, 5}\n"
          ]
        }
      ],
      "source": [
        "# Para la diferencia de conjuntos usando el operador\n",
        "R = A - B\n",
        "print(R)"
      ]
    },
    {
      "cell_type": "code",
      "execution_count": 4,
      "metadata": {},
      "outputs": [
        {
          "name": "stdout",
          "output_type": "stream",
          "text": [
            "{1, 2, 5, 6, 7}\n"
          ]
        }
      ],
      "source": [
        "# Para la diferencia simétrica de conjuntos usando el método\n",
        "R = A.symmetric_difference(B)\n",
        "print(R)"
      ]
    },
    {
      "cell_type": "code",
      "execution_count": 5,
      "metadata": {},
      "outputs": [
        {
          "name": "stdout",
          "output_type": "stream",
          "text": [
            "{1, 2, 5, 6, 7}\n"
          ]
        }
      ],
      "source": [
        "# Para la diferencia simétrica de conjuntos usando el operador\n",
        "R = A ^ B\n",
        "print(R)"
      ]
    },
    {
      "cell_type": "markdown",
      "metadata": {},
      "source": [
        "Para el complemento, debemos definir primero el Universo de referecia y tener en cuenta que:\n",
        "$$\n",
        " A^c = U \\smallsetminus A.\n",
        "$$"
      ]
    },
    {
      "cell_type": "code",
      "execution_count": 7,
      "metadata": {},
      "outputs": [
        {
          "name": "stdout",
          "output_type": "stream",
          "text": [
            "Universo U: {1, 2, 3, 4, 5, 6, 7, 8, 9, 10}\n",
            "Complemento de A: {6, 7, 8, 9, 10}\n"
          ]
        }
      ],
      "source": [
        "# Definimos el Universo de referencia\n",
        "U = {1, 2, 3, 4, 5, 6, 7, 8, 9, 10}\n",
        "print(\"Universo U:\", U)\n",
        "# Para el complemento de A\n",
        "R = U.difference(A)\n",
        "print(\"Complemento de A:\", R)"
      ]
    },
    {
      "cell_type": "markdown",
      "metadata": {},
      "source": [
        "### <font color='264CC7'> Ejercicio </font>\n",
        "\n",
        "Considera el universo $U = \\{1,2,3,4,5,6,7,8\\}$, y sean:\n",
        "$$\n",
        "    A = \\{2, 4, 6\\}, \\quad B = \\{1, 2, 3, 4\\}.\n",
        "$$\n",
        "Calculemos $A^{c} \\smallsetminus B$.\n"
      ]
    },
    {
      "cell_type": "code",
      "execution_count": 9,
      "metadata": {},
      "outputs": [
        {
          "name": "stdout",
          "output_type": "stream",
          "text": [
            "El resultado es: {8, 5, 7}\n"
          ]
        }
      ],
      "source": [
        "# Definimos el Universo de referencia\n",
        "U = {1, 2, 3, 4, 5, 6, 7, 8}\n",
        "# Definimos los conjuntos A y B\n",
        "A = {2, 4, 6}\n",
        "B = {1, 2, 3, 4}\n",
        "# Calculemos A^c\n",
        "Ac = U.difference(A)\n",
        "# Calculemos A^c \\smallsetminus B\n",
        "R = Ac.difference(B)\n",
        "print(\"El resultado es:\", R)"
      ]
    },
    {
      "cell_type": "markdown",
      "metadata": {},
      "source": [
        "### <font color='264CC7'> Tareas </font>\n",
        "\n",
        "#### Tarea 1.\n",
        "\n",
        "Considera el universo de referencia $U = \\{1,2,3,4,5,6,7,8,9,10\\}$ y los conjuntos:\n",
        "$$\n",
        "    A = \\{2, 4, 6\\}, \\quad B = \\{1, 2, 3, 4, 5\\}, \\quad C = \\{5, 6, 7\\}.\n",
        "$$\n",
        "Calcula las siguientes operaciones:\n",
        "- $A \\cup (B \\cap C)$\n",
        "- $(A \\cup B) \\cap (B \\cup C)$\n",
        "- $A \\cap (B \\cup C)$\n",
        "- $(A \\cap B) \\cup (B \\cap C)$\n",
        "- $A \\cap B \\cap C$\n",
        "- $(A \\cup B)^c$\n",
        "- $A^c \\cap B^c$"
      ]
    },
    {
      "cell_type": "code",
      "execution_count": null,
      "metadata": {},
      "outputs": [],
      "source": []
    }
  ],
  "metadata": {
    "colab": {
      "include_colab_link": true,
      "name": "Resumen01.ipynb",
      "provenance": []
    },
    "kernelspec": {
      "display_name": "Python 3",
      "language": "python",
      "name": "python3"
    },
    "language_info": {
      "codemirror_mode": {
        "name": "ipython",
        "version": 3
      },
      "file_extension": ".py",
      "mimetype": "text/x-python",
      "name": "python",
      "nbconvert_exporter": "python",
      "pygments_lexer": "ipython3",
      "version": "3.11.3"
    }
  },
  "nbformat": 4,
  "nbformat_minor": 0
}
