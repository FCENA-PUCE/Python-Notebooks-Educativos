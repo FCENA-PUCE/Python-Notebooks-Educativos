{
  "cells": [
    {
      "cell_type": "markdown",
      "metadata": {
        "colab_type": "text",
        "id": "view-in-github"
      },
      "source": [
        "<a href=\"https://colab.research.google.com/github/FCENA-PUCE/Python-Notebooks-Educativos/blob/main/Equivalencia-Inferencia-logica.ipynb\" target=\"_parent\"><img src=\"https://colab.research.google.com/assets/colab-badge.svg\" alt=\"Open In Colab\"/></a>"
      ]
    },
    {
      "cell_type": "markdown",
      "metadata": {
        "id": "g5AWDUU3C1zg"
      },
      "source": [
        "<table style=\"border: none; border-collapse: collapse;\">\n",
        "    <tr>\n",
        "        <td style=\"width: 20%; vertical-align: middle; padding-right: 10px;\">\n",
        "            <img src=\"https://i.imgur.com/nt7hloA.png\" width=\"100\">\n",
        "        </td>\n",
        "        <td style=\"width: 2px; text-align: center;\">\n",
        "            <font color=\"#0030A1\" size=\"7\">|</font><br>\n",
        "            <font color=\"#0030A1\" size=\"7\">|</font>\n",
        "        </td>\n",
        "        <td>\n",
        "            <p style=\"font-variant: small-caps;\"><font color=\"#0030A1\" size=\"5\">\n",
        "                <b>Catálogo STEM</b>\n",
        "            </font> </p>\n",
        "            <p style=\"font-variant: small-caps;\"><font color=\"#0030A1\" size=\"4\">\n",
        "                Equivalencia e Inferencia lógica\n",
        "            </font></p>\n",
        "            <p style=\"font-style: oblique;\"><font color=\"#0030A1\" size=\"3\">\n",
        "                Andrés Merino &bull; Julio 2025\n",
        "            </font></p>\n",
        "        </td>  \n",
        "    </tr>\n",
        "</table>"
      ]
    },
    {
      "cell_type": "markdown",
      "metadata": {},
      "source": [
        "Si es la primera vez corriendo este documento, retira el comentario de la siguiente celda."
      ]
    },
    {
      "cell_type": "code",
      "execution_count": 1,
      "metadata": {},
      "outputs": [],
      "source": [
        "# !pip install truth-table-generator"
      ]
    },
    {
      "cell_type": "code",
      "execution_count": 2,
      "metadata": {},
      "outputs": [],
      "source": [
        "from ttg import Truths"
      ]
    },
    {
      "cell_type": "markdown",
      "metadata": {
        "id": "Bxa9gBA7MvSU"
      },
      "source": [
        "---\n",
        "## <font color='264CC7'> Equivalencia Lógica</font>\n",
        "---"
      ]
    },
    {
      "cell_type": "markdown",
      "metadata": {
        "id": "0oEuL2uJM6zS"
      },
      "source": [
        "Dos formas proposicionales son equivalentes si tienen la misma función de verdad. En este caso, escribimos $ P \\equiv Q $.\n",
        "\n",
        "Por ejemplo, demostremos que\n",
        "$$\n",
        "\\neg (p \\land q) \\equiv \\neg p \\lor \\neg q,\n",
        "$$\n",
        "para esto, construimos la tabla de verdad de ambas proposiciones:"
      ]
    },
    {
      "cell_type": "code",
      "execution_count": 3,
      "metadata": {
        "colab": {
          "base_uri": "https://localhost:8080/",
          "height": 78
        },
        "id": "_RcPlATlM5zC",
        "outputId": "985fe20f-5f2a-4086-f8cb-fc636255a7d3"
      },
      "outputs": [
        {
          "name": "stdout",
          "output_type": "stream",
          "text": [
            "+-----+-----+--------------+------------+\n",
            "|  p  |  q  |  ~(p and q)  |  ~p or ~q  |\n",
            "|-----+-----+--------------+------------|\n",
            "|  1  |  1  |      0       |     0      |\n",
            "|  1  |  0  |      1       |     1      |\n",
            "|  0  |  1  |      1       |     1      |\n",
            "|  0  |  0  |      1       |     1      |\n",
            "+-----+-----+--------------+------------+\n"
          ]
        }
      ],
      "source": [
        "print(Truths(['p', 'q'], ['~(p and q)', '~p or ~q']))"
      ]
    },
    {
      "cell_type": "markdown",
      "metadata": {},
      "source": [
        "Como podemos ver, ambas proposiciones tienen la misma función de verdad, por lo tanto, son equivalentes.\n",
        "\n",
        "Otra forma de comprobar esta equivalencia es ver si la proposición\n",
        "$$\n",
        "\\neg (p \\land q) \\leftrightarrow (\\neg p \\lor \\neg q)\n",
        "$$\n",
        "es una tautología, es decir, si es verdadera para todos los valores de $p$ y $q$. Si lo es, entonces las dos proposiciones son equivalentes."
      ]
    },
    {
      "cell_type": "code",
      "execution_count": 4,
      "metadata": {},
      "outputs": [
        {
          "name": "stdout",
          "output_type": "stream",
          "text": [
            "+-----+-----+-----------------------------+\n",
            "|  p  |  q  |  (~(p and q)) = (~p or ~q)  |\n",
            "|-----+-----+-----------------------------|\n",
            "|  1  |  1  |              1              |\n",
            "|  1  |  0  |              1              |\n",
            "|  0  |  1  |              1              |\n",
            "|  0  |  0  |              1              |\n",
            "+-----+-----+-----------------------------+\n"
          ]
        }
      ],
      "source": [
        "print(Truths(['p', 'q'], ['(~(p and q)) = (~p or ~q)']))"
      ]
    },
    {
      "cell_type": "markdown",
      "metadata": {},
      "source": [
        "Como vemos, la proposición es verdadera para todos los valores de $p$ y $q$, por lo tanto, las dos proposiciones son equivalentes.\n",
        "\n",
        "También podemos usar el método `valuation` para comprobar si es una tautología:"
      ]
    },
    {
      "cell_type": "code",
      "execution_count": 5,
      "metadata": {},
      "outputs": [
        {
          "name": "stdout",
          "output_type": "stream",
          "text": [
            "Tautology\n"
          ]
        }
      ],
      "source": [
        "table = Truths(['p', 'q'], ['(~(p and q)) = (~p or ~q)'])\n",
        "print(table.valuation())"
      ]
    },
    {
      "cell_type": "markdown",
      "metadata": {},
      "source": [
        "### <font color='264CC7'> Tareas </font>\n",
        "\n",
        "#### Tarea 1.\n",
        "Demuestre que las siguientes equivalencias son correctas, además, investiga el nombre que se suele dar a cada una de ellas.\n",
        "\n",
        "1. $\\neg(\\neg p) \\equiv p$\n",
        "2. $p \\lor p \\equiv p$\n",
        "3. $(p \\land q) \\lor r \\equiv (p \\lor r) \\land (q \\lor r)$\n",
        "4. $p \\lor (p \\land q) \\equiv p$\n",
        "5. $\\neg (p \\lor q) \\equiv \\neg p \\land \\neg q$\n",
        "6. $p \\Rightarrow q \\equiv \\neg p \\lor q$\n",
        "7. $p ⇒ q  \\equiv  \\neg q \\Rightarrow \\neg p$"
      ]
    },
    {
      "cell_type": "code",
      "execution_count": null,
      "metadata": {},
      "outputs": [],
      "source": []
    },
    {
      "cell_type": "markdown",
      "metadata": {},
      "source": [
        "#### Tarea 2.\n",
        "\n",
        "Suponga que se actualiza el reglamento de tránsito y se tienen estas dos versiones:\n",
        "\n",
        "- *Versión antigua:* Para obtener una licencia de conducir es necesario cumplir al menos una de las siguientes condiciones:\n",
        "    *  Ser mayor de edad y aprobar el examen de manejo.\n",
        "    *   Tener una autorización del representante legal y aprobar el examen de manejo.\n",
        "- *Versión nueva:* Para obtener una licencia de conducir es necesario cumplir las siguientes condiciones:\n",
        "    *   Aprobar el examen de manejo.\n",
        "    *   Ser mayor de edad o tener una autorización del representante legal.\n",
        "  \n",
        "¿Han cambiado los requisitos para obtener una licencia de conducir?\n",
        "\n",
        "Puede revisar la solución a esta tarea en el siguiente [enlace](https://alephsub0.org/abr/andres-merino/abr-tablas-de-verdad/)."
      ]
    },
    {
      "cell_type": "code",
      "execution_count": null,
      "metadata": {},
      "outputs": [],
      "source": []
    },
    {
      "cell_type": "markdown",
      "metadata": {},
      "source": []
    },
    {
      "cell_type": "markdown",
      "metadata": {
        "id": "0uqqwmFVC1zj"
      },
      "source": [
        "---\n",
        "## <font color='264CC7'> Inferencia Logica</font>\n",
        "---"
      ]
    },
    {
      "cell_type": "markdown",
      "metadata": {
        "id": "ZKMx1cAcC1zj"
      },
      "source": [
        "Para verificar si un argumento\n",
        "$$\n",
        "    \\begin{array}{l}\n",
        "    P_1\\\\\n",
        "    P_2 \\\\\n",
        "    \\vdots\\\\\n",
        "    P_N\\\\\\hline\n",
        "    Q\n",
        "    \\end{array}\n",
        "$$\n",
        "es válido, podemos construir la la tabla de verdad de la proposición:  \n",
        "$$\n",
        "    (P_1 \\land P_2 \\land \\dots \\land P_n) \\rightarrow Q.\n",
        "$$\n",
        "Si esta expresión es una tautología, entonces el argumento es **válido**, caso contrario, el argumento es **no válido**.\n",
        "\n",
        "Por ejemplo, consideremos el siguiente argumento:\n",
        "$$\n",
        "    \\begin{array}{l}\n",
        "    p \\rightarrow q\\\\\n",
        "    p\\\\\\hline\n",
        "    q\n",
        "    \\end{array}\n",
        "$$\n",
        "Para verificar si es válido, construimos la tabla de verdad de la proposición:\n",
        "$$\n",
        "    ((p \\rightarrow q) \\land p) \\rightarrow q.\n",
        "$$\n"
      ]
    },
    {
      "cell_type": "code",
      "execution_count": 6,
      "metadata": {
        "id": "YxIdPWAbC1zj",
        "outputId": "bd2ba790-9890-4975-a528-5fecefe59af2"
      },
      "outputs": [
        {
          "name": "stdout",
          "output_type": "stream",
          "text": [
            "+-----+-----+-------------------------+\n",
            "|  p  |  q  |  ((p => q) and p) => q  |\n",
            "|-----+-----+-------------------------|\n",
            "|  1  |  1  |            1            |\n",
            "|  1  |  0  |            1            |\n",
            "|  0  |  1  |            1            |\n",
            "|  0  |  0  |            1            |\n",
            "+-----+-----+-------------------------+\n",
            "Tautology\n"
          ]
        }
      ],
      "source": [
        "table_val = Truths(['p' , 'q'] , ['((p => q) and p) => q'])\n",
        "print (table_val)\n",
        "print (table_val.valuation())"
      ]
    },
    {
      "cell_type": "markdown",
      "metadata": {},
      "source": [
        "Dado que obtenemos una tautología, el argumento es válido."
      ]
    },
    {
      "cell_type": "markdown",
      "metadata": {},
      "source": [
        "### <font color='264CC7'> Tareas </font>\n",
        "\n",
        "#### Tarea 1.\n",
        "Determina si el siguiente argumento es válido:\n",
        "$$\n",
        "    \\begin{array}{l}\n",
        "    p \\rightarrow q\\\\\n",
        "    \\neg q\\\\\\hline\n",
        "    \\neg p\n",
        "    \\end{array}\n",
        "$$"
      ]
    },
    {
      "cell_type": "code",
      "execution_count": null,
      "metadata": {},
      "outputs": [],
      "source": []
    },
    {
      "cell_type": "markdown",
      "metadata": {},
      "source": [
        "####  Tarea 2.\n",
        "\n",
        "Determina si el siguiente razonamiento es válido:\n",
        "\n",
        "> \"Si estudio, entonces me va bien en mis actividades; si me va bien en mis actividades, entonces apruebo el semestre. Concluyo que si estudio, entonces apruebo el semestre.\""
      ]
    },
    {
      "cell_type": "markdown",
      "metadata": {},
      "source": []
    },
    {
      "cell_type": "code",
      "execution_count": null,
      "metadata": {},
      "outputs": [],
      "source": []
    },
    {
      "cell_type": "markdown",
      "metadata": {},
      "source": [
        "###  Tarea 3.\n",
        "\n",
        "Determinar si el siguiente razonamiento es válido:\n",
        "$$\n",
        "    \\begin{array}{l}\n",
        "s \\rightarrow (t \\rightarrow u) \\\\\n",
        "v \\rightarrow (w \\rightarrow x) \\\\\n",
        "t \\rightarrow (v \\land w) \\\\\n",
        "\\neg(t \\land x) \\\\\n",
        "\\hline\n",
        "s \\leftrightarrow u\n",
        "\\end {array}\n",
        "$$"
      ]
    },
    {
      "cell_type": "markdown",
      "metadata": {},
      "source": []
    },
    {
      "cell_type": "code",
      "execution_count": null,
      "metadata": {},
      "outputs": [],
      "source": []
    }
  ],
  "metadata": {
    "colab": {
      "include_colab_link": true,
      "name": "Resumen01.ipynb",
      "provenance": []
    },
    "kernelspec": {
      "display_name": "Python 3",
      "language": "python",
      "name": "python3"
    },
    "language_info": {
      "codemirror_mode": {
        "name": "ipython",
        "version": 3
      },
      "file_extension": ".py",
      "mimetype": "text/x-python",
      "name": "python",
      "nbconvert_exporter": "python",
      "pygments_lexer": "ipython3",
      "version": "3.11.3"
    }
  },
  "nbformat": 4,
  "nbformat_minor": 0
}
